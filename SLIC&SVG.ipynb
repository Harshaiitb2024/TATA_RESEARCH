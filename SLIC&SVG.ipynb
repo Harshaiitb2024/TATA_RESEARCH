{
  "nbformat": 4,
  "nbformat_minor": 0,
  "metadata": {
    "colab": {
      "provenance": [],
      "gpuType": "T4"
    },
    "kernelspec": {
      "name": "python3",
      "display_name": "Python 3"
    },
    "language_info": {
      "name": "python"
    },
    "accelerator": "GPU"
  },
  "cells": [
    {
      "cell_type": "code",
      "source": [
        "!git clone https://github.com/Harshaiitb2024/TATA_RESEARCH.git"
      ],
      "metadata": {
        "colab": {
          "base_uri": "https://localhost:8080/"
        },
        "id": "f3FWvcKI40j0",
        "outputId": "74a2ab10-5fad-4c13-abdc-2453992ee417"
      },
      "execution_count": 1,
      "outputs": [
        {
          "output_type": "stream",
          "name": "stdout",
          "text": [
            "Cloning into 'TATA_RESEARCH'...\n",
            "remote: Enumerating objects: 15, done.\u001b[K\n",
            "remote: Counting objects: 100% (15/15), done.\u001b[K\n",
            "remote: Compressing objects: 100% (14/14), done.\u001b[K\n",
            "remote: Total 15 (delta 5), reused 0 (delta 0), pack-reused 0 (from 0)\u001b[K\n",
            "Receiving objects: 100% (15/15), 2.59 MiB | 30.18 MiB/s, done.\n",
            "Resolving deltas: 100% (5/5), done.\n"
          ]
        }
      ]
    },
    {
      "cell_type": "code",
      "source": [
        "cd TATA_RESEARCH"
      ],
      "metadata": {
        "colab": {
          "base_uri": "https://localhost:8080/"
        },
        "id": "qgc_l4OV5ClN",
        "outputId": "8ef30abc-1648-4332-bb05-a83d9dfa85dc"
      },
      "execution_count": 2,
      "outputs": [
        {
          "output_type": "stream",
          "name": "stdout",
          "text": [
            "/content/TATA_RESEARCH\n"
          ]
        }
      ]
    },
    {
      "cell_type": "code",
      "source": [
        "!pip install svgwrite\n"
      ],
      "metadata": {
        "colab": {
          "base_uri": "https://localhost:8080/"
        },
        "id": "JH4iNB0KNgKA",
        "outputId": "78d05a46-a9d0-4e53-8b89-2aa60acfc214"
      },
      "execution_count": 3,
      "outputs": [
        {
          "output_type": "stream",
          "name": "stdout",
          "text": [
            "Collecting svgwrite\n",
            "  Downloading svgwrite-1.4.3-py3-none-any.whl.metadata (8.8 kB)\n",
            "Downloading svgwrite-1.4.3-py3-none-any.whl (67 kB)\n",
            "\u001b[?25l   \u001b[90m━━━━━━━━━━━━━━━━━━━━━━━━━━━━━━━━━━━━━━━━\u001b[0m \u001b[32m0.0/67.1 kB\u001b[0m \u001b[31m?\u001b[0m eta \u001b[36m-:--:--\u001b[0m\r\u001b[2K   \u001b[90m━━━━━━━━━━━━━━━━━━━━━━━━━━━━━━━━━━━━━━━━\u001b[0m \u001b[32m67.1/67.1 kB\u001b[0m \u001b[31m7.6 MB/s\u001b[0m eta \u001b[36m0:00:00\u001b[0m\n",
            "\u001b[?25hInstalling collected packages: svgwrite\n",
            "Successfully installed svgwrite-1.4.3\n"
          ]
        }
      ]
    },
    {
      "cell_type": "code",
      "execution_count": 4,
      "metadata": {
        "colab": {
          "base_uri": "https://localhost:8080/"
        },
        "id": "Dkq5pCVlNT9z",
        "outputId": "c4a10665-2f13-45fc-9094-39e538786eee"
      },
      "outputs": [
        {
          "output_type": "stream",
          "name": "stdout",
          "text": [
            "SVG saved as 'superpixels.svg'\n"
          ]
        }
      ],
      "source": [
        "import numpy as np\n",
        "import svgwrite\n",
        "from skimage import io, segmentation, color, measure\n",
        "from skimage.util import img_as_float\n",
        "import matplotlib.pyplot as plt\n",
        "\n",
        "# --- Step 1: Load and Prepare Image ---\n",
        "image = img_as_float(io.imread(\"/content/TATA_RESEARCH/NST_test.jpg\"))\n",
        "height, width = image.shape[:2]\n",
        "\n",
        "# --- Step 2: Apply SLIC Superpixel Segmentation ---\n",
        "segments = segmentation.slic(image, n_segments=5000, compactness=4, start_label=1)\n",
        "\n",
        "# --- Step 3: Create SVG Drawing ---\n",
        "dwg = svgwrite.Drawing(\"superpixels.svg\", size=(width, height))\n",
        "\n",
        "# --- Step 4: For Each Segment, Extract Contours and Create Polygon ---\n",
        "unique_segments = np.unique(segments)\n",
        "\n",
        "for seg_val in unique_segments:\n",
        "    # Create mask for current segment\n",
        "    mask = (segments == seg_val).astype(np.uint8)\n",
        "\n",
        "    # Find contours: list of (n_points, 2) arrays\n",
        "    contours = measure.find_contours(mask, 0.5)\n",
        "\n",
        "    for contour in contours:\n",
        "        # SVG expects (x, y), where x=column, y=row\n",
        "        points = [(float(x), float(y)) for y, x in contour]\n",
        "\n",
        "        # Get average color of this segment from the image\n",
        "        segment_pixels = image[segments == seg_val]\n",
        "        avg_color = np.mean(segment_pixels, axis=0)\n",
        "        rgb = tuple((avg_color * 255).astype(int))\n",
        "        fill_color = svgwrite.rgb(*rgb)\n",
        "\n",
        "        # Add polygon to SVG\n",
        "        dwg.add(dwg.polygon(\n",
        "            points=points,\n",
        "            fill=fill_color,\n",
        "            stroke='black',\n",
        "            stroke_width=0.5\n",
        "        ))\n",
        "\n",
        "# --- Step 5: Save SVG File ---\n",
        "dwg.save()\n",
        "print(\"SVG saved as 'superpixels.svg'\")\n"
      ]
    }
  ]
}
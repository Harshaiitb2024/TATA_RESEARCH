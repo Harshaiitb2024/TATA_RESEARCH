{
  "nbformat": 4,
  "nbformat_minor": 0,
  "metadata": {
    "colab": {
      "provenance": [],
      "gpuType": "T4"
    },
    "kernelspec": {
      "name": "python3",
      "display_name": "Python 3"
    },
    "language_info": {
      "name": "python"
    },
    "accelerator": "GPU"
  },
  "cells": [
    {
      "cell_type": "code",
      "execution_count": 1,
      "metadata": {
        "colab": {
          "base_uri": "https://localhost:8080/"
        },
        "id": "QdsdXy9PzB0w",
        "outputId": "8952e301-ffff-4a34-b975-401473674768"
      },
      "outputs": [
        {
          "output_type": "stream",
          "name": "stdout",
          "text": [
            "Cloning into 'stylized-neural-painting'...\n",
            "remote: Enumerating objects: 216, done.\u001b[K\n",
            "remote: Counting objects: 100% (106/106), done.\u001b[K\n",
            "remote: Compressing objects: 100% (45/45), done.\u001b[K\n",
            "remote: Total 216 (delta 84), reused 61 (delta 61), pack-reused 110 (from 1)\u001b[K\n",
            "Receiving objects: 100% (216/216), 3.63 MiB | 26.94 MiB/s, done.\n",
            "Resolving deltas: 100% (114/114), done.\n"
          ]
        }
      ],
      "source": [
        "!git clone https://github.com/Bhanu0729/stylized-neural-painting.git"
      ]
    },
    {
      "cell_type": "code",
      "source": [
        "cd stylized-neural-painting"
      ],
      "metadata": {
        "colab": {
          "base_uri": "https://localhost:8080/"
        },
        "id": "OhAEZiAozPZ0",
        "outputId": "6ee69ac8-c156-42b2-8e48-0981628c2e82"
      },
      "execution_count": 2,
      "outputs": [
        {
          "output_type": "stream",
          "name": "stdout",
          "text": [
            "/content/stylized-neural-painting\n"
          ]
        }
      ]
    },
    {
      "cell_type": "code",
      "source": [
        "\n",
        "import gdown\n",
        "import zipfile\n",
        "import os\n",
        "\n",
        "\n",
        "gdrive_link = 'https://drive.google.com/file/d/1sqWhgBKqaBJggl2A8sD1bLSq2_B1ScMG/view?usp=sharing'\n",
        "\n",
        "# Extract the file ID from the link\n",
        "file_id = gdrive_link.split('/d/')[1].split('/')[0]\n",
        "download_url = f'https://drive.google.com/uc?id={file_id}'\n",
        "\n",
        "#Download the ZIP file\n",
        "output = 'checkpoints_G_oilpaintbrush.zip'\n",
        "gdown.download(download_url, output, quiet=False)\n",
        "\n",
        "# Unzip the file\n",
        "unzip_path = '/content/stylized-neural-painting/'\n",
        "os.makedirs(unzip_path, exist_ok=True)\n",
        "\n",
        "with zipfile.ZipFile(output, 'r') as zip_ref:\n",
        "    zip_ref.extractall(unzip_path)\n",
        "\n",
        "print(f\"Files extracted to: {unzip_path}\")\n"
      ],
      "metadata": {
        "colab": {
          "base_uri": "https://localhost:8080/"
        },
        "id": "1fxpAshuzT3a",
        "outputId": "3ef1602e-ab57-44f4-c9f8-77ac1ff066e9"
      },
      "execution_count": 3,
      "outputs": [
        {
          "output_type": "stream",
          "name": "stderr",
          "text": [
            "Downloading...\n",
            "From (original): https://drive.google.com/uc?id=1sqWhgBKqaBJggl2A8sD1bLSq2_B1ScMG\n",
            "From (redirected): https://drive.google.com/uc?id=1sqWhgBKqaBJggl2A8sD1bLSq2_B1ScMG&confirm=t&uuid=e1502367-914c-4b1e-9885-f4ea3c6398f1\n",
            "To: /content/stylized-neural-painting/checkpoints_G_oilpaintbrush.zip\n",
            "100%|██████████| 181M/181M [00:01<00:00, 165MB/s]\n"
          ]
        },
        {
          "output_type": "stream",
          "name": "stdout",
          "text": [
            "Files extracted to: /content/stylized-neural-painting/\n"
          ]
        }
      ]
    },
    {
      "cell_type": "code",
      "source": [
        "!python train_imitator.py --renderer oilpaintbrush --net_G Trans_Gan --checkpoint_dir ./checkpoints_G --vis_dir val_out --max_num_epochs 50 --lr 2e-4 --batch_size 64"
      ],
      "metadata": {
        "colab": {
          "base_uri": "https://localhost:8080/"
        },
        "id": "5GO4seOLzT54",
        "outputId": "73715b70-f36f-4bc0-9877-a32813ea88c6"
      },
      "execution_count": null,
      "outputs": [
        {
          "output_type": "stream",
          "name": "stdout",
          "text": [
            "/usr/local/lib/python3.11/dist-packages/torch/utils/data/dataloader.py:624: UserWarning: This DataLoader will create 4 worker processes in total. Our suggested max number of worker in current system is 2, which is smaller than what this DataLoader is going to create. Please be aware that excessive worker creation might get DataLoader running slow or even freeze, lower the worker number to avoid potential slowness/freeze if necessary.\n",
            "  warnings.warn(\n",
            "initialize network with normal\n",
            "training from scratch...\n",
            "Is_training: True. [0,49][1,782], G_loss: 11.41391, running_acc: 7.80334\n",
            "Is_training: True. [0,49][101,782], G_loss: 5.82515, running_acc: 13.00713\n",
            "Is_training: True. [0,49][201,782], G_loss: 5.43493, running_acc: 13.20296\n",
            "Is_training: True. [0,49][301,782], G_loss: 5.35488, running_acc: 13.26718\n",
            "Is_training: True. [0,49][401,782], G_loss: 5.78479, running_acc: 13.31491\n",
            "Is_training: True. [0,49][501,782], G_loss: 4.66255, running_acc: 13.36736\n",
            "Is_training: True. [0,49][601,782], G_loss: 5.76935, running_acc: 13.39926\n",
            "Is_training: True. [0,49][701,782], G_loss: 5.82931, running_acc: 13.42243\n"
          ]
        }
      ]
    },
    {
      "cell_type": "code",
      "source": [],
      "metadata": {
        "id": "1xJFZlHczT8d"
      },
      "execution_count": null,
      "outputs": []
    },
    {
      "cell_type": "code",
      "source": [],
      "metadata": {
        "id": "nfGWM3bWzT-n"
      },
      "execution_count": null,
      "outputs": []
    },
    {
      "cell_type": "code",
      "source": [],
      "metadata": {
        "id": "cQfkkmikzUCH"
      },
      "execution_count": null,
      "outputs": []
    }
  ]
}